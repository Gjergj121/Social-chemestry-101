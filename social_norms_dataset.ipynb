{
 "cells": [
  {
   "cell_type": "code",
   "execution_count": 1,
   "metadata": {},
   "outputs": [
    {
     "name": "stderr",
     "output_type": "stream",
     "text": [
      "/home/IAIS/gplepi/anaconda3/envs/entero_env/lib/python3.10/site-packages/tqdm/auto.py:21: TqdmWarning: IProgress not found. Please update jupyter and ipywidgets. See https://ipywidgets.readthedocs.io/en/stable/user_install.html\n",
      "  from .autonotebook import tqdm as notebook_tqdm\n"
     ]
    },
    {
     "data": {
      "text/plain": [
       "DatasetDict({\n",
       "    train: Dataset({\n",
       "        features: ['area', 'm', 'split', 'rot-agree', 'rot-categorization', 'rot-moral-foundations', 'rot-char-targeting', 'rot-bad', 'rot-judgment', 'action', 'action-agency', 'action-moral-judgment', 'action-agree', 'action-legal', 'action-pressure', 'action-char-involved', 'action-hypothetical', 'situation', 'situation-short-id', 'rot', 'rot-id', 'rot-worker-id', 'breakdown-worker-id', 'n-characters', 'characters'],\n",
       "        num_rows: 355922\n",
       "    })\n",
       "})"
      ]
     },
     "execution_count": 1,
     "metadata": {},
     "output_type": "execute_result"
    }
   ],
   "source": [
    "from datasets import load_dataset\n",
    "\n",
    "dataset = load_dataset(\"metaeval/social-chemestry-101\")\n",
    "dataset"
   ]
  },
  {
   "cell_type": "code",
   "execution_count": 2,
   "metadata": {},
   "outputs": [
    {
     "name": "stderr",
     "output_type": "stream",
     "text": [
      "Map: 100%|██████████| 355922/355922 [00:30<00:00, 11667.28 examples/s]\n"
     ]
    },
    {
     "data": {
      "text/plain": [
       "DatasetDict({\n",
       "    train: Dataset({\n",
       "        features: ['area', 'm', 'split', 'rot-agree', 'rot-categorization', 'rot-moral-foundations', 'rot-char-targeting', 'rot-bad', 'rot-judgment', 'action', 'action-agency', 'action-moral-judgment', 'action-agree', 'action-legal', 'action-pressure', 'action-char-involved', 'action-hypothetical', 'situation', 'situation-short-id', 'rot', 'rot-id', 'rot-worker-id', 'breakdown-worker-id', 'n-characters', 'characters'],\n",
       "        num_rows: 355922\n",
       "    })\n",
       "})"
      ]
     },
     "execution_count": 2,
     "metadata": {},
     "output_type": "execute_result"
    }
   ],
   "source": [
    "\"\"\"Distinct situations\"\"\"\n",
    "distinct_situations = set()\n",
    "\n",
    "def find_distinct_situations(example):\n",
    "    distinct_situations.add(example['situation'])\n",
    "\n",
    "dataset.map(find_distinct_situations)"
   ]
  },
  {
   "cell_type": "code",
   "execution_count": 3,
   "metadata": {},
   "outputs": [
    {
     "data": {
      "text/plain": [
       "103296"
      ]
     },
     "execution_count": 3,
     "metadata": {},
     "output_type": "execute_result"
    }
   ],
   "source": [
    "distinct_situations = list(distinct_situations)\n",
    "len(distinct_situations)"
   ]
  },
  {
   "cell_type": "code",
   "execution_count": 4,
   "metadata": {},
   "outputs": [
    {
     "name": "stderr",
     "output_type": "stream",
     "text": [
      "Map: 100%|██████████| 355922/355922 [00:30<00:00, 11596.50 examples/s]\n"
     ]
    },
    {
     "data": {
      "text/plain": [
       "DatasetDict({\n",
       "    train: Dataset({\n",
       "        features: ['area', 'm', 'split', 'rot-agree', 'rot-categorization', 'rot-moral-foundations', 'rot-char-targeting', 'rot-bad', 'rot-judgment', 'action', 'action-agency', 'action-moral-judgment', 'action-agree', 'action-legal', 'action-pressure', 'action-char-involved', 'action-hypothetical', 'situation', 'situation-short-id', 'rot', 'rot-id', 'rot-worker-id', 'breakdown-worker-id', 'n-characters', 'characters'],\n",
       "        num_rows: 355922\n",
       "    })\n",
       "})"
      ]
     },
     "execution_count": 4,
     "metadata": {},
     "output_type": "execute_result"
    }
   ],
   "source": [
    "\"\"\"Distinct RoTs\"\"\"\n",
    "distinct_rots = set()\n",
    "\n",
    "def find_distinct_rots(example):\n",
    "    distinct_rots.add(example['rot'])\n",
    "\n",
    "dataset.map(find_distinct_rots)"
   ]
  },
  {
   "cell_type": "code",
   "execution_count": 5,
   "metadata": {},
   "outputs": [
    {
     "data": {
      "text/plain": [
       "259614"
      ]
     },
     "execution_count": 5,
     "metadata": {},
     "output_type": "execute_result"
    }
   ],
   "source": [
    "distinct_rots = list(distinct_rots)\n",
    "len(distinct_rots)"
   ]
  },
  {
   "cell_type": "code",
   "execution_count": 6,
   "metadata": {},
   "outputs": [
    {
     "name": "stderr",
     "output_type": "stream",
     "text": [
      "Map: 100%|██████████| 355922/355922 [00:35<00:00, 9929.54 examples/s] \n"
     ]
    },
    {
     "data": {
      "text/plain": [
       "DatasetDict({\n",
       "    train: Dataset({\n",
       "        features: ['area', 'm', 'split', 'rot-agree', 'rot-categorization', 'rot-moral-foundations', 'rot-char-targeting', 'rot-bad', 'rot-judgment', 'action', 'action-agency', 'action-moral-judgment', 'action-agree', 'action-legal', 'action-pressure', 'action-char-involved', 'action-hypothetical', 'situation', 'situation-short-id', 'rot', 'rot-id', 'rot-worker-id', 'breakdown-worker-id', 'n-characters', 'characters'],\n",
       "        num_rows: 355922\n",
       "    })\n",
       "})"
      ]
     },
     "execution_count": 6,
     "metadata": {},
     "output_type": "execute_result"
    }
   ],
   "source": [
    "\"\"\"RoTs for each situation\"\"\"\n",
    "rots_per_situation = {key:[] for key in distinct_situations}\n",
    "\n",
    "def rots_for_each_situation(example):\n",
    "    rots_per_situation[example['situation']].append(example['rot'])\n",
    "\n",
    "dataset.map(rots_for_each_situation)"
   ]
  },
  {
   "cell_type": "code",
   "execution_count": 7,
   "metadata": {},
   "outputs": [],
   "source": [
    "dataset = dataset.select_columns(['split', 'situation', 'rot'])"
   ]
  },
  {
   "cell_type": "code",
   "execution_count": 9,
   "metadata": {},
   "outputs": [
    {
     "name": "stderr",
     "output_type": "stream",
     "text": [
      "Map: 100%|██████████| 355922/355922 [00:22<00:00, 16078.34 examples/s]\n"
     ]
    }
   ],
   "source": [
    "import random\n",
    "\n",
    "def negative_examples(example):\n",
    "\n",
    "    encoding = example\n",
    "\n",
    "    negative_rot = None\n",
    "    #sample a negative RoT for the current situation\n",
    "    while negative_rot is None:\n",
    "        candidate_rot = random.choice(distinct_rots)\n",
    "        if candidate_rot not in rots_per_situation[example['situation']]:\n",
    "            negative_rot = candidate_rot\n",
    "\n",
    "    encoding['rot'] = negative_rot\n",
    "    encoding['labels'] = 0\n",
    "\n",
    "    return encoding\n",
    "\n",
    "negative_dataset = dataset.map(negative_examples)"
   ]
  },
  {
   "cell_type": "code",
   "execution_count": 18,
   "metadata": {},
   "outputs": [
    {
     "name": "stdout",
     "output_type": "stream",
     "text": [
      "washing my cat's bowls in the kitchen sink\n",
      "True RoTs: [\"It's good to keep things clean.\", \"It's wrong to wash a pet's bowl in the sink with dishes people use.\", \"It's good to keep your pet's things clean.\"]\n",
      "Unrelated RoT: It is okay to feel betrayed if someone has lied to you about who they really are.\n"
     ]
    }
   ],
   "source": [
    "print(negative_dataset['train'][4]['situation'])\n",
    "print(f\"True RoTs: {rots_per_situation[negative_dataset['train'][4]['situation']]}\")\n",
    "print(f\"Unrelated RoT: {negative_dataset['train'][4]['rot']}\") #not related to the situation"
   ]
  },
  {
   "cell_type": "code",
   "execution_count": 19,
   "metadata": {},
   "outputs": [
    {
     "name": "stderr",
     "output_type": "stream",
     "text": [
      "Map: 100%|██████████| 355922/355922 [00:16<00:00, 20940.53 examples/s]\n"
     ]
    }
   ],
   "source": [
    "def positive_examples(example):\n",
    "    encoding = example\n",
    "    encoding['labels'] = 1\n",
    "\n",
    "    return encoding\n",
    "\n",
    "positive_dataset = dataset.map(positive_examples)"
   ]
  },
  {
   "cell_type": "code",
   "execution_count": 21,
   "metadata": {},
   "outputs": [
    {
     "name": "stderr",
     "output_type": "stream",
     "text": [
      "/home/IAIS/gplepi/anaconda3/envs/entero_env/lib/python3.10/site-packages/datasets/table.py:1421: FutureWarning: promote has been superseded by mode='default'.\n",
      "  table = cls._concat_blocks(blocks, axis=0)\n"
     ]
    },
    {
     "data": {
      "text/plain": [
       "Dataset({\n",
       "    features: ['split', 'situation', 'rot', 'labels'],\n",
       "    num_rows: 711844\n",
       "})"
      ]
     },
     "execution_count": 21,
     "metadata": {},
     "output_type": "execute_result"
    }
   ],
   "source": [
    "from datasets import concatenate_datasets\n",
    "\n",
    "pos_neg_dataset = concatenate_datasets([negative_dataset['train'], positive_dataset['train']])\n",
    "pos_neg_dataset = pos_neg_dataset.shuffle(seed=42)\n",
    "pos_neg_dataset"
   ]
  },
  {
   "cell_type": "code",
   "execution_count": 26,
   "metadata": {},
   "outputs": [
    {
     "data": {
      "text/plain": [
       "Dataset({\n",
       "    features: ['split', 'input_ids', 'attention_mask', 'labels'],\n",
       "    num_rows: 711844\n",
       "})"
      ]
     },
     "execution_count": 26,
     "metadata": {},
     "output_type": "execute_result"
    }
   ],
   "source": [
    "\"\"\"Tokenize the dataset\"\"\"\n",
    "from transformers import AutoTokenizer\n",
    "import numpy as np\n",
    "\n",
    "tokenizer = AutoTokenizer.from_pretrained(\"distilbert-base-uncased\")\n",
    "\n",
    "def tokenize_dataset(example):\n",
    "    encoding = tokenizer(example['situation'], example['rot'], padding=\"max_length\", truncation=True)\n",
    "    return encoding\n",
    "\n",
    "tokenized_dataset = pos_neg_dataset.map(tokenize_dataset, batched=True)\n",
    "tokenized_dataset = tokenized_dataset.select_columns(['split', 'input_ids', 'attention_mask', 'labels'])\n",
    "tokenized_dataset"
   ]
  },
  {
   "cell_type": "code",
   "execution_count": 29,
   "metadata": {},
   "outputs": [
    {
     "name": "stderr",
     "output_type": "stream",
     "text": [
      "Filter: 100%|██████████| 711844/711844 [05:01<00:00, 2362.94 examples/s]\n",
      "Filter: 100%|██████████| 711844/711844 [04:58<00:00, 2387.73 examples/s]\n",
      "Filter: 100%|██████████| 711844/711844 [04:57<00:00, 2390.54 examples/s]\n"
     ]
    },
    {
     "data": {
      "text/plain": [
       "DatasetDict({\n",
       "    train: Dataset({\n",
       "        features: ['split', 'input_ids', 'attention_mask', 'labels'],\n",
       "        num_rows: 467002\n",
       "    })\n",
       "    val: Dataset({\n",
       "        features: ['split', 'input_ids', 'attention_mask', 'labels'],\n",
       "        num_rows: 58468\n",
       "    })\n",
       "    test: Dataset({\n",
       "        features: ['split', 'input_ids', 'attention_mask', 'labels'],\n",
       "        num_rows: 58478\n",
       "    })\n",
       "})"
      ]
     },
     "execution_count": 29,
     "metadata": {},
     "output_type": "execute_result"
    }
   ],
   "source": [
    "from datasets import DatasetDict\n",
    "\n",
    "tokenized_splited_dataset = DatasetDict({\n",
    "                    \"train\": tokenized_dataset.filter(lambda example: example['split'] == 'train'), \n",
    "                     \"val\": tokenized_dataset.filter(lambda example: example['split'] == 'dev'), \n",
    "                     \"test\": tokenized_dataset.filter(lambda example: example['split'] == 'test')\n",
    "                     })\n",
    "tokenized_splited_dataset"
   ]
  },
  {
   "cell_type": "code",
   "execution_count": 32,
   "metadata": {},
   "outputs": [
    {
     "data": {
      "text/plain": [
       "DatasetDict({\n",
       "    train: Dataset({\n",
       "        features: ['input_ids', 'attention_mask', 'labels'],\n",
       "        num_rows: 467002\n",
       "    })\n",
       "    val: Dataset({\n",
       "        features: ['input_ids', 'attention_mask', 'labels'],\n",
       "        num_rows: 58468\n",
       "    })\n",
       "    test: Dataset({\n",
       "        features: ['input_ids', 'attention_mask', 'labels'],\n",
       "        num_rows: 58478\n",
       "    })\n",
       "})"
      ]
     },
     "execution_count": 32,
     "metadata": {},
     "output_type": "execute_result"
    }
   ],
   "source": [
    "tokenized_splited_dataset['train'] = tokenized_splited_dataset['train'].remove_columns(['split'])\n",
    "tokenized_splited_dataset['val'] = tokenized_splited_dataset['val'].remove_columns(['split'])\n",
    "tokenized_splited_dataset['test'] = tokenized_splited_dataset['test'].remove_columns(['split'])\n",
    "tokenized_splited_dataset"
   ]
  },
  {
   "cell_type": "code",
   "execution_count": 33,
   "metadata": {},
   "outputs": [
    {
     "name": "stderr",
     "output_type": "stream",
     "text": [
      "Saving the dataset (3/3 shards): 100%|██████████| 467002/467002 [00:11<00:00, 39222.45 examples/s] \n",
      "Saving the dataset (1/1 shards): 100%|██████████| 58468/58468 [00:01<00:00, 37238.08 examples/s]\n",
      "Saving the dataset (1/1 shards): 100%|██████████| 58478/58478 [00:01<00:00, 36980.91 examples/s]\n"
     ]
    }
   ],
   "source": [
    "path = \"/home/IAIS/gplepi/entero/data_social_norms/binary_classification_bert\"\n",
    "tokenized_splited_dataset.save_to_disk(path)"
   ]
  }
 ],
 "metadata": {
  "kernelspec": {
   "display_name": "entero_env",
   "language": "python",
   "name": "python3"
  },
  "language_info": {
   "codemirror_mode": {
    "name": "ipython",
    "version": 3
   },
   "file_extension": ".py",
   "mimetype": "text/x-python",
   "name": "python",
   "nbconvert_exporter": "python",
   "pygments_lexer": "ipython3",
   "version": "3.10.13"
  }
 },
 "nbformat": 4,
 "nbformat_minor": 2
}
